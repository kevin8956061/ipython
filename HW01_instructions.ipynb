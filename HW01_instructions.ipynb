{
 "metadata": {
  "name": "",
  "signature": "sha256:38f5935e475169c260ac5fc0adb546f158f413e06c08e77d3938d25efddb0925"
 },
 "nbformat": 3,
 "nbformat_minor": 0,
 "worksheets": [
  {
   "cells": [
    {
     "cell_type": "markdown",
     "metadata": {},
     "source": [
      "<style>\n",
      "div.cell, div.text_cell_render{\n",
      "  max-width:800px;\n",
      "  margin-left:auto;\n",
      "  margin-right:auto;\n",
      "}\n",
      "\n",
      ".rendered_html\n",
      "{\n",
      "  font-size: 110%;\n",
      "  }\n",
      "\n",
      ".rendered_html li\n",
      "{\n",
      "  line-height: 1.;\n",
      "  }\n",
      "\n",
      ".rendered_html h1, h2 {\n",
      "  font-familly:\"Charis SIL\", serif;\n",
      "}\n",
      "\n",
      "\n",
      ".input_prompt, .CodeMirror-lines, .output_area\n",
      "{\n",
      " \u00a0font-family: Consolas, monospace;\n",
      "  font-size: 110%;\n",
      "}\n",
      "</style>"
     ]
    },
    {
     "cell_type": "markdown",
     "metadata": {},
     "source": [
      "## Homework 01 Instructions\n",
      "#### \u8cc7\u6599\u5206\u6790\u8edf\u9ad4\u5de5\u5177\n",
      "#### Assigned: 2014-09-24\n",
      "#### Due: 2014-10-08 7:00 PM\n",
      "#### \u5b78\u865f\uff1a       \u59d3\u540d\uff1a\n",
      "\n",
      "This first assignment is a couple of small python exercises to prepare us for bigger challenges. Aim for short, simple, readable code. Try to choose useful variable names and code comments.\n",
      "\n",
      "My goals for writing scientific code are, in order of decreasing importance:\n",
      "\n",
      "1. Correctness\n",
      "2. Clarity\n",
      "3. Conciseness\n",
      "\n",
      "Forming good habits for _reproducible_ code is a crucial skill, so it's included in the grading criteria.\n",
      "\n",
      "### Instructions:\n",
      "\n",
      "<div class=\"row\">\n",
      "<div class=\"span6 alert alert-info\">\n",
      "<b>Read these instructions completely before beginning.</b>\n",
      "</div>\n",
      "</div>\n",
      "\n",
      "Along with this file is a python script template, called `HW01_template.txt`. Your job is to fill this in with your code following the questions listed here and the additional information included in the template.\n",
      "\n",
      "#### To submit:\n",
      "\n",
      "Please rename the template file to `HW01_\u5b78\u865f.ipynb` (change `.txt` to `.ipynb`), replacing `lastName` and `firstInitial` with your name. Then complete the homework inside the template. Additional instructions are visible in the template\n",
      "\n",
      "* Upload your finished `.ipynb` file to the [Moodle website](http://moodle.nccu.edu.tw).\n",
      "\n",
      "<br><br>\n",
      "\n",
      "<div class=\"row\">\n",
      "<div class=\"span6 alert alert-danger\">\n",
      "You're expected to **encounter errors** in code while working on assignments. Dealing with broken code (for example, a template imports a module that isn't installed on your machine) is something you frequently confront in practice. Fixing such errors is something you'll need to be able to do.\n",
      "</div>\n",
      "</div>\n",
      "\n",
      "<div class=\"row\">\n",
      "<div class=\"span6 alert alert-success\">\n",
      "If you have code questions you want to ask in office hours, please be sure to bring your laptop so I can see what's happening in your system.\n",
      "</div>\n",
      "</div>\n",
      "\n",
      "\n"
     ]
    },
    {
     "cell_type": "markdown",
     "metadata": {},
     "source": [
      "### Problem 1 of 3:\n",
      "\n",
      "Python set data structure supports mathematical set operations (union, intersection, difference, etc.) Please write a function `jaccard(S1,S2)` that computes the [Jaccard similarity](http://en.wikipedia.org/wiki/Jaccard_index) between two sets S1 and S2. The Jaccard similarity between sets $A$ and $B$ is defined as:\n",
      "\n",
      "$ J(A,B) = \\left|A \\cap B\\right| ~~ / ~~ \\left|A \\cup B\\right|$.\n",
      "\n",
      "* Call your `jaccard` function on two or three small example sets that you have added to your `.py` file."
     ]
    },
    {
     "cell_type": "markdown",
     "metadata": {},
     "source": [
      "### Problem 2 of 3:\n",
      "\n",
      "<div class=\"row\">\n",
      "<div class=\"span6 alert alert-warning\">\n",
      "For this problem you should study the **random stuff** section of the LEC02 notebook. This was skipped in Thursday's class.\n",
      "</div>\n",
      "</div>\n",
      "\n",
      "#### Flipping a biased random coin.\n",
      "\n",
      "Using the python `random` module, write function `coin_flip(p)` that takes a number $0 < p < 1$ and returns either **heads** or **tails**. If $p = 1/2$ then both heads and tails are equally likely and the coin is fair. If $p=0.9$ then there is a 90% chance of a head and only a 10% chance of a tail.\n",
      "\n",
      "* You can use 'H' and 'T' to represent heads and tails, respectively.\n",
      "\n",
      "Now, `for p in [0.2,0.4,0.6,0.8]`:\n",
      "\n",
      "1. Flip this coin 1000 times, storing each heads or tails result to a list.\n",
      "2. Compute the **run statistics** for heads for this coin flip history. A run of heads is a contiguous sequence of all heads. For example, `['H','H','H','T','H','T','H','H']`, has a run of 3, then a run of 1, then a run of 2. The run statistics count how many runs there are of length 1,2,3,4,5, etc.\n",
      "\n",
      "\n"
     ]
    },
    {
     "cell_type": "markdown",
     "metadata": {},
     "source": [
      "### Problem 3 of 3:\n",
      "\n",
      "In the template there is a function that downloads and parses A Tale of Two Cities from the Project Gutenberg. This function returns a list of all words in the book. Study how this function works.\n",
      "\n",
      "* Write code that takes the word list and counts the number of times each word occurs. \n",
      "* Print the 100 most common words and the number of times they occur. \n",
      "\n",
      "Please use `.sort()` or `sorted()` in your solution. \n",
      "\n",
      "**Bonus:** You may be able to find a special python goodie to do this task with little code, but please only include this after your homegrown code."
     ]
    },
    {
     "cell_type": "markdown",
     "metadata": {},
     "source": [
      "<br>\n",
      "<br>\n",
      "<div class=\"row\">\n",
      "<div class=\"span2 alert alert-info\">\n",
      "<h4>Good luck!</h4>\n",
      "</div>\n",
      "</div>\n"
     ]
    },
    {
     "cell_type": "code",
     "collapsed": false,
     "input": [],
     "language": "python",
     "metadata": {},
     "outputs": []
    }
   ],
   "metadata": {}
  }
 ]
}