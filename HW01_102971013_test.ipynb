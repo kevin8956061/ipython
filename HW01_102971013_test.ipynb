{
 "metadata": {
  "name": "",
  "signature": "sha256:5b689908f7af699d8b96b4f58106df62d7883641738c36266042dbd50e7303df"
 },
 "nbformat": 3,
 "nbformat_minor": 0,
 "worksheets": [
  {
   "cells": [
    {
     "cell_type": "code",
     "collapsed": false,
     "input": [
      "# try it on github\n",
      "# \u8cc7\u6599\u5206\u6790\u8edf\u9ad4\u5de5\u5177\n",
      "# HW 1\n",
      "#\n",
      "# Name: <FILL ME IN>\n",
      "# Date: <FILL ME IN>\n",
      "\n",
      "#####          Template for Homework 01          ######\n",
      "##### Don't forget to read the INSTRUCTIONS FILE ######\n",
      "#####                 Good luck!                 ######\n"
     ],
     "language": "python",
     "metadata": {},
     "outputs": [],
     "prompt_number": 1
    },
    {
     "cell_type": "code",
     "collapsed": false,
     "input": [
      "print \"******************** HW01: Problem 1/3 ********************\"\n",
      "\n",
      "### YOUR CODE HERE ###\n",
      "def Jaccard(L1, L2): \n",
      "    L3 = [v for v in S1 if v in S2]  \n",
      "    return float(len(L3)) / (len(L1) + len(L2) - len(L3)) \n"
     ],
     "language": "python",
     "metadata": {},
     "outputs": [
      {
       "output_type": "stream",
       "stream": "stdout",
       "text": [
        "******************** HW01: Problem 1/3 ********************\n"
       ]
      }
     ],
     "prompt_number": 14
    },
    {
     "cell_type": "code",
     "collapsed": false,
     "input": [
      "\n",
      "print \"******************** HW01: Problem 2/3 ********************\"\n",
      "\n",
      "#import random\n",
      "import numpy as np \n",
      "\n",
      "def coin_flip(p):\n",
      "    Total = 1000\n",
      "    #p = 7 # K zeros, N-K ones\n",
      "    p = Total * p\n",
      "    L = ['H'] * int(p) + ['T'] * (Total - int(p))\n",
      "    np.random.shuffle(L)\n",
      "    #print L\n",
      "\n",
      "    L_count = []\n",
      "    count= 0       \n",
      "    for index in range(len(L)):\n",
      "        if L[index] == 'H':\n",
      "            count += 1\n",
      "            if int(index) == int(len(L) - 1): #last is H\n",
      "                L_count.append(count)\n",
      "        elif count <> 0: #Exclusion head is T\n",
      "             L_count.append(count)\n",
      "             count = 0\n",
      "                \n",
      "    print L_count\n"
     ],
     "language": "python",
     "metadata": {},
     "outputs": [
      {
       "output_type": "stream",
       "stream": "stdout",
       "text": [
        "******************** HW01: Problem 2/3 ********************\n"
       ]
      }
     ],
     "prompt_number": 35
    },
    {
     "cell_type": "code",
     "collapsed": false,
     "input": [
      "\n",
      "print \"******************** HW01: Problem 3/3 ********************\"\n",
      "\n",
      "import urllib\n",
      "from string import punctuation\n",
      "\n",
      "def words_of_book():\n",
      "    \"\"\"Download `A tale of two cities` from Project Gutenberg. Return a list of\n",
      "    words. Punctuation has been removed and upper-case letters have been\n",
      "    replaced with lower-case.\n",
      "    \"\"\"\n",
      "    \n",
      "    url = \"http://www.gutenberg.org/files/98/98.txt\"\n",
      "    raw = urllib.urlopen(url).read() # Download book into one long string.\n",
      "    \n",
      "    raw = raw[750:] # The first 750 or so characters are not part of the book.\n",
      "    \n",
      "    # Loop over every character in the string, keep it only if it is NOT\n",
      "    # punctuation:\n",
      "    exclude = set(punctuation) # Keep a set of \"bad\" characters.\n",
      "    list_letters_noPunct = [ char for char in raw if char not in exclude ]\n",
      "    \n",
      "    # Now we have a list of LETTERS, *join* them back together to get words:\n",
      "    text_noPunct = \"\".join(list_letters_noPunct)\n",
      "    # (http://docs.python.org/2/library/stdtypes.html#str.join)\n",
      "    \n",
      "    # Split this big string into a list of words:\n",
      "    list_words = text_noPunct.strip().split()\n",
      "    \n",
      "    # Convert to lower-case letters:\n",
      "    list_words = [ word.lower() for word in list_words ]\n",
      "    \n",
      "    return list_words\n",
      "\n",
      "### YOUR CODE HERE ###\n",
      "#list to dict\n",
      "def list2freqdict(mylist): \n",
      "    mydict = dict()\n",
      "    for ch in mylist:\n",
      "        mydict[ch] = mydict.get(ch, 0) + 1\n",
      "    return mydict\n",
      "\n",
      "#chfreqdict ex:{\"a\": 8, \"b\": 5, \"c\": 5}\n",
      "chfreqdict = list2freqdict(words_of_book()) #words_of_book() get 98.txt\n",
      "\n",
      "\n",
      "chfreqdict_rever = []\n",
      "for name,num in chfreqdict.iteritems(): #error msg: too many values to unpack, use iteritems()\n",
      "    chfreqdict_rever.append((num,name)) #swapped! rever name, num\n",
      "    \n",
      "#now sort:\n",
      "nF_name_sorted_reversed = sorted(chfreqdict_rever, reverse=True) #use num sort\n",
      "\n",
      "#list top 100\n",
      "for index in range(len(nF_name_sorted_reversed)):\n",
      "    if index < 100:\n",
      "        print nF_name_sorted_reversed[index]"
     ],
     "language": "python",
     "metadata": {},
     "outputs": [
      {
       "output_type": "stream",
       "stream": "stdout",
       "text": [
        "******************** HW01: Problem 3/3 ********************\n",
        "(8186, 'the')"
       ]
      },
      {
       "output_type": "stream",
       "stream": "stdout",
       "text": [
        "\n",
        "(4993, 'and')\n",
        "(4126, 'of')\n",
        "(3543, 'to')\n",
        "(2976, 'a')\n",
        "(2638, 'in')\n",
        "(2013, 'it')\n",
        "(2005, 'his')\n",
        "(1917, 'i')\n",
        "(1904, 'that')\n",
        "(1833, 'he')\n",
        "(1764, 'was')\n",
        "(1455, 'you')\n",
        "(1351, 'with')\n",
        "(1297, 'had')\n",
        "(1148, 'as')\n",
        "(1045, 'at')\n",
        "(1038, 'her')\n",
        "(972, 'for')\n",
        "(965, 'him')\n",
        "(932, 'on')\n",
        "(860, 'not')\n",
        "(842, 'is')\n",
        "(780, 'be')\n",
        "(742, 'have')\n",
        "(660, 'said')\n",
        "(658, 'were')\n",
        "(654, 'but')\n",
        "(653, 'my')\n",
        "(620, 'mr')\n",
        "(588, 'this')\n",
        "(582, 'so')\n",
        "(577, 'by')\n",
        "(571, 'all')\n",
        "(567, 'there')\n",
        "(564, 'they')\n",
        "(548, 'no')\n",
        "(529, 'from')\n",
        "(522, 'me')\n",
        "(471, 'if')\n",
        "(459, 'she')\n",
        "(446, 'out')\n",
        "(438, 'one')\n",
        "(435, 'been')\n",
        "(434, 'when')\n",
        "(434, 'or')\n",
        "(409, 'which')\n",
        "(393, 'them')\n",
        "(375, 'who')\n",
        "(371, 'what')\n",
        "(349, 'an')\n",
        "(345, 'your')\n",
        "(341, 'would')\n",
        "(336, 'lorry')\n",
        "(333, 'are')\n",
        "(319, 'into')\n",
        "(318, 'their')\n",
        "(315, 'do')\n",
        "(309, 'up')\n",
        "(295, 'will')\n",
        "(291, 'upon')\n",
        "(282, 'could')\n",
        "(280, 'defarge')\n",
        "(279, 'man')\n",
        "(265, 'little')\n",
        "(261, 'more')\n",
        "(261, 'its')\n",
        "(261, 'any')\n",
        "(260, 'time')\n",
        "(256, 'now')\n",
        "(253, 'then')\n",
        "(247, 'hand')\n",
        "(232, 'miss')\n",
        "(232, 'down')\n",
        "(232, 'before')\n",
        "(230, 'know')\n",
        "(229, 'some')\n",
        "(227, 'again')\n",
        "(225, 'am')\n",
        "(219, 'himself')\n",
        "(217, 'very')\n",
        "(216, 'than')\n",
        "(212, 'two')\n",
        "(209, 'good')\n",
        "(198, 'see')\n",
        "(198, 'like')\n",
        "(193, 'other')\n",
        "(193, 'looked')\n",
        "(192, 'never')\n",
        "(192, 'long')\n",
        "(192, 'doctor')\n",
        "(191, 'madame')\n",
        "(187, 'these')\n",
        "(187, 'face')\n",
        "(186, 'old')\n",
        "(185, 'made')\n",
        "(184, 'here')\n",
        "(182, 'night')\n",
        "(181, 'much')\n",
        "(180, 'way')\n"
       ]
      }
     ],
     "prompt_number": 5
    },
    {
     "cell_type": "code",
     "collapsed": false,
     "input": [
      "S1 = ['shirt','shoes','pants','socks']\n",
      "S2 = ['shirt','shoes','pants']\n",
      "Jaccard(S1,S2)"
     ],
     "language": "python",
     "metadata": {},
     "outputs": [
      {
       "metadata": {},
       "output_type": "pyout",
       "prompt_number": 38,
       "text": [
        "0.5"
       ]
      }
     ],
     "prompt_number": 38
    },
    {
     "cell_type": "code",
     "collapsed": false,
     "input": [
      "coin_flip(0.5)"
     ],
     "language": "python",
     "metadata": {},
     "outputs": [
      {
       "output_type": "stream",
       "stream": "stdout",
       "text": [
        "[2, 1, 1, 3, 1, 1, 1, 1, 1, 4, 3, 1, 2, 1, 2, 2, 1, 1, 1, 3, 1, 1, 3, 4, 1, 3, 2, 1, 3, 1, 1, 2, 2, 2, 2, 4, 1, 3, 2, 3, 4, 3, 1, 1, 1, 1, 2, 1, 1, 1, 1, 2, 2, 3, 1, 2, 3, 2, 1, 1, 7, 1, 3, 3, 1, 2, 2, 1, 1, 7, 1, 4, 1, 2, 1, 1, 1, 3, 2, 1, 1, 2, 1, 1, 2, 1, 3, 6, 3, 1, 1, 1, 2, 3, 4, 1, 2, 1, 2, 3, 2, 2, 6, 1, 1, 8, 4, 3, 1, 1, 1, 1, 2, 1, 3, 1, 5, 1, 1, 3, 1, 2, 2, 2, 1, 5, 1, 4, 1, 2, 1, 1, 1, 2, 1, 1, 7, 3, 2, 2, 1, 3, 1, 2, 1, 1, 1, 2, 1, 3, 1, 1, 2, 1, 1, 1, 2, 3, 1, 3, 1, 2, 1, 1, 1, 1, 1, 5, 1, 2, 1, 1, 8, 1, 3, 4, 1, 1, 3, 2, 1, 1, 1, 1, 5, 1, 3, 1, 1, 1, 3, 1, 2, 1, 1, 2, 1, 1, 1, 1, 2, 2, 2, 2, 1, 2, 1, 3, 2, 1, 2, 3, 4, 3, 1, 2, 2, 3, 3, 3, 3, 3, 2, 3, 3, 1, 4, 1, 4, 1, 2, 3, 2, 1, 1, 2, 1, 1, 1, 2, 2, 2, 2, 1, 2, 1, 2, 1, 2, 4, 1, 5, 2]\n"
       ]
      }
     ],
     "prompt_number": 39
    }
   ],
   "metadata": {}
  }
 ]
}