{
 "metadata": {
  "name": "",
  "signature": "sha256:9f04fe8526cd4bd6aa66347afcc2a140b2ced32c9c80e804919d3537f4802a3d"
 },
 "nbformat": 3,
 "nbformat_minor": 0,
 "worksheets": [
  {
   "cells": [
    {
     "cell_type": "markdown",
     "metadata": {},
     "source": [
      "<style>\n",
      "div.cell, div.text_cell_render{\n",
      "  max-width:760px;\n",
      "  margin-left:auto;\n",
      "  margin-right:auto;\n",
      "}\n",
      "\n",
      ".rendered_html\n",
      "{\n",
      "  font-size: 130%;\n",
      "  }\n",
      "\n",
      ".rendered_html li\n",
      "{\n",
      "  line-height: 1.;\n",
      "  }\n",
      "\n",
      ".rendered_html h1, h2 {\n",
      "  font-familly:\"Charis SIL\", serif;\n",
      "}\n",
      "\n",
      "img { \n",
      "    max-width: 200% !important;\n",
      "    height: auto !important;\n",
      "}\n",
      "\n",
      ".input_prompt, .CodeMirror-lines, .output_area\n",
      "{\n",
      " \u00a0font-family: Consolas, monospace;\n",
      "  font-size: 120%;\n",
      "}\n",
      "</style>"
     ]
    },
    {
     "cell_type": "code",
     "collapsed": false,
     "input": [],
     "language": "python",
     "metadata": {},
     "outputs": []
    },
    {
     "cell_type": "markdown",
     "metadata": {},
     "source": [
      "## STDA Lecture 2 \n",
      "### 2014-09-22\n",
      "\n",
      "\n",
      "\n",
      "<div class=\"row\">\n",
      "\n",
      "<div class=\"span4 alert alert-info\">\n",
      "**Homework 01** posted later today (afternoon?) Check the course website at moodle for files and instructions. Due Monday, 10/06.\n",
      "</div>\n",
      "</div>\n",
      "<div class=\"row\">\n",
      "<div class=\"span4 alert alert-success\">\n",
      "By popular request, **office hours** will be Mondays 1-4pm.\n",
      "</div>\n",
      "</div>\n",
      "\n",
      "\n",
      "### Today's plan:\n",
      "\n",
      "- A bit more on data structures and control flow\n",
      "    - tuples vs. lists\n",
      "        + multiassignment\n",
      "    - sorting\n",
      "    - zipping and unzipping\n",
      "    - _comprehensions!_\n",
      "- Working with __files__ !\n",
      "- Exploring the [Python standard library](http://docs.python.org/2/library/)\n",
      "    - `import`\n",
      "    - math\n",
      "    - random  \n",
      "    - ~~dates and times~~\n",
      "- A tour of useful third-party packages\n",
      "    - [numpy and scipy](http://docs.scipy.org/doc/)\n",
      "    - [matplotlib](http://matplotlib.org)\n",
      "    - ~~[networkx](http://networkx.github.io)~~\n",
      "\n",
      "\n",
      "### Tuples vs. Lists\n",
      "\n",
      "We discussed lists previously, `x = [1,2,3]`. Once a list is made you can update it in place. A list is **mutable**:"
     ]
    },
    {
     "cell_type": "code",
     "collapsed": false,
     "input": [
      "L = range(20)\n",
      "print L\n",
      "print \"Hi Bob\"\n",
      "L.append('a')\n",
      "print L"
     ],
     "language": "python",
     "metadata": {},
     "outputs": [
      {
       "output_type": "stream",
       "stream": "stdout",
       "text": [
        "[0, 1, 2, 3, 4, 5, 6, 7, 8, 9, 10, 11, 12, 13, 14, 15, 16, 17, 18, 19]\n",
        "Hi Bob\n",
        "[0, 1, 2, 3, 4, 5, 6, 7, 8, 9, 10, 11, 12, 13, 14, 15, 16, 17, 18, 19, 'a']\n"
       ]
      }
     ],
     "prompt_number": 1
    },
    {
     "cell_type": "code",
     "collapsed": false,
     "input": [
      "x = 100\n",
      "print x*2"
     ],
     "language": "python",
     "metadata": {},
     "outputs": [
      {
       "output_type": "stream",
       "stream": "stdout",
       "text": [
        "200\n"
       ]
      }
     ],
     "prompt_number": 2
    },
    {
     "cell_type": "markdown",
     "metadata": {},
     "source": [
      "But something that can change can't be used as a key in a dictionary:"
     ]
    },
    {
     "cell_type": "code",
     "collapsed": false,
     "input": [
      "social_network = {}\n",
      "link = ['John','Paul']\n",
      "social_network[link] = 'are friends'"
     ],
     "language": "python",
     "metadata": {},
     "outputs": [
      {
       "ename": "TypeError",
       "evalue": "unhashable type: 'list'",
       "output_type": "pyerr",
       "traceback": [
        "\u001b[0;31m---------------------------------------------------------------------------\u001b[0m\n\u001b[0;31mTypeError\u001b[0m                                 Traceback (most recent call last)",
        "\u001b[0;32m<ipython-input-2-b9edca2a64da>\u001b[0m in \u001b[0;36m<module>\u001b[0;34m()\u001b[0m\n\u001b[1;32m      1\u001b[0m \u001b[0msocial_network\u001b[0m \u001b[0;34m=\u001b[0m \u001b[0;34m{\u001b[0m\u001b[0;34m}\u001b[0m\u001b[0;34m\u001b[0m\u001b[0m\n\u001b[1;32m      2\u001b[0m \u001b[0mlink\u001b[0m \u001b[0;34m=\u001b[0m \u001b[0;34m[\u001b[0m\u001b[0;34m'John'\u001b[0m\u001b[0;34m,\u001b[0m\u001b[0;34m'Paul'\u001b[0m\u001b[0;34m]\u001b[0m\u001b[0;34m\u001b[0m\u001b[0m\n\u001b[0;32m----> 3\u001b[0;31m \u001b[0msocial_network\u001b[0m\u001b[0;34m[\u001b[0m\u001b[0mlink\u001b[0m\u001b[0;34m]\u001b[0m \u001b[0;34m=\u001b[0m \u001b[0;34m'are friends'\u001b[0m\u001b[0;34m\u001b[0m\u001b[0m\n\u001b[0m",
        "\u001b[0;31mTypeError\u001b[0m: unhashable type: 'list'"
       ]
      }
     ],
     "prompt_number": 2
    },
    {
     "cell_type": "markdown",
     "metadata": {},
     "source": [
      "But we can use something **very** similar to a list, called a **tuple**:"
     ]
    },
    {
     "cell_type": "code",
     "collapsed": false,
     "input": [
      "L = ['John','Paul']\n",
      "T = ('John','Paul') # looks almost the same!"
     ],
     "language": "python",
     "metadata": {},
     "outputs": [
      {
       "output_type": "stream",
       "stream": "stdout",
       "text": [
        "\n"
       ]
      }
     ],
     "prompt_number": 4
    },
    {
     "cell_type": "markdown",
     "metadata": {},
     "source": [
      "`T` works almost exactly like `L`:"
     ]
    },
    {
     "cell_type": "code",
     "collapsed": true,
     "input": [
      "print \"The first element of T is\", T[0]\n",
      "\n",
      "L[0] = \"Ringo\" # change L\n",
      "T[0] = \"Ringo\" # can't change T\n"
     ],
     "language": "python",
     "metadata": {},
     "outputs": [
      {
       "output_type": "stream",
       "stream": "stdout",
       "text": [
        "The first element of T is John\n"
       ]
      },
      {
       "ename": "TypeError",
       "evalue": "'tuple' object does not support item assignment",
       "output_type": "pyerr",
       "traceback": [
        "\u001b[0;31m---------------------------------------------------------------------------\u001b[0m\n\u001b[0;31mTypeError\u001b[0m                                 Traceback (most recent call last)",
        "\u001b[0;32m<ipython-input-5-94653f65baa8>\u001b[0m in \u001b[0;36m<module>\u001b[0;34m()\u001b[0m\n\u001b[1;32m      2\u001b[0m \u001b[0;34m\u001b[0m\u001b[0m\n\u001b[1;32m      3\u001b[0m \u001b[0mL\u001b[0m\u001b[0;34m[\u001b[0m\u001b[0;36m0\u001b[0m\u001b[0;34m]\u001b[0m \u001b[0;34m=\u001b[0m \u001b[0;34m\"Ringo\"\u001b[0m \u001b[0;31m# change L\u001b[0m\u001b[0;34m\u001b[0m\u001b[0m\n\u001b[0;32m----> 4\u001b[0;31m \u001b[0mT\u001b[0m\u001b[0;34m[\u001b[0m\u001b[0;36m0\u001b[0m\u001b[0;34m]\u001b[0m \u001b[0;34m=\u001b[0m \u001b[0;34m\"Ringo\"\u001b[0m \u001b[0;31m# can't change T\u001b[0m\u001b[0;34m\u001b[0m\u001b[0m\n\u001b[0m",
        "\u001b[0;31mTypeError\u001b[0m: 'tuple' object does not support item assignment"
       ]
      }
     ],
     "prompt_number": 5
    },
    {
     "cell_type": "markdown",
     "metadata": {},
     "source": [
      "So we can use tuples for our keys!"
     ]
    },
    {
     "cell_type": "code",
     "collapsed": false,
     "input": [
      "social_network[ ('John', 'Paul') ] = \"are friends\"\n",
      "print social_network"
     ],
     "language": "python",
     "metadata": {},
     "outputs": [
      {
       "output_type": "stream",
       "stream": "stdout",
       "text": [
        "{('John', 'Paul'): 'are friends'}\n"
       ]
      }
     ],
     "prompt_number": 5
    },
    {
     "cell_type": "markdown",
     "metadata": {},
     "source": [
      "Note in this case that the order of the tuple matters:"
     ]
    },
    {
     "cell_type": "code",
     "collapsed": false,
     "input": [
      "print (\"Paul\", \"John\") in social_network\n",
      "print (\"John\", \"Paul\") in social_network"
     ],
     "language": "python",
     "metadata": {},
     "outputs": [
      {
       "output_type": "stream",
       "stream": "stdout",
       "text": [
        "False\n",
        "True\n"
       ]
      }
     ],
     "prompt_number": 6
    },
    {
     "cell_type": "code",
     "collapsed": false,
     "input": [
      "social_network[\"Paul\", \"John\"] = social_network[\"John\", \"Paul\"]\n",
      "print social_network"
     ],
     "language": "python",
     "metadata": {},
     "outputs": [
      {
       "output_type": "stream",
       "stream": "stdout",
       "text": [
        "{('John', 'Paul'): 'are friends', ('Paul', 'John'): 'are friends'}\n"
       ]
      }
     ],
     "prompt_number": 7
    },
    {
     "cell_type": "markdown",
     "metadata": {},
     "source": [
      "There are some other small differences between tuples and lists, so be careful. For example:"
     ]
    },
    {
     "cell_type": "code",
     "collapsed": false,
     "input": [
      "print type( [5]  ) # <type 'list'>\n",
      "print type( 5    ) # <type 'int'>\n",
      "print type( (5)  ) # <type 'int'>\n",
      "print type( (5,) ) # <type 'tuple'>"
     ],
     "language": "python",
     "metadata": {},
     "outputs": [
      {
       "output_type": "stream",
       "stream": "stdout",
       "text": [
        "<type 'list'>\n",
        "<type 'int'>\n",
        "<type 'int'>\n",
        "<type 'tuple'>\n"
       ]
      }
     ],
     "prompt_number": 8
    },
    {
     "cell_type": "markdown",
     "metadata": {},
     "source": [
      "#### Multi-assignment\n",
      "\n",
      "Functions that return multiple values always return tuples:"
     ]
    },
    {
     "cell_type": "code",
     "collapsed": false,
     "input": [
      "def swap(a,b):\n",
      "    return b,a\n",
      "\n",
      "output = swap(\"George\",\"Ringo\")\n",
      "print type(output)"
     ],
     "language": "python",
     "metadata": {},
     "outputs": [
      {
       "output_type": "stream",
       "stream": "stdout",
       "text": [
        "<type 'tuple'>\n"
       ]
      }
     ],
     "prompt_number": 9
    },
    {
     "cell_type": "markdown",
     "metadata": {},
     "source": [
      "Python's \"`=`\" understands tuples and lists in a very convenient way:"
     ]
    },
    {
     "cell_type": "code",
     "collapsed": false,
     "input": [
      "coordinate = (0.9,0.1,0.5)\n",
      "x,y,z = coordinate # same as (x,y,z) = coordinate\n",
      "\n",
      "# much shorter than:\n",
      "x = coordinate[0]\n",
      "y = coordinate[1]\n",
      "z = coordinate[2]"
     ],
     "language": "python",
     "metadata": {},
     "outputs": [],
     "prompt_number": 10
    },
    {
     "cell_type": "markdown",
     "metadata": {},
     "source": [
      "Combine multi-assignment with for-loops for short, **readable** code:"
     ]
    },
    {
     "cell_type": "code",
     "collapsed": false,
     "input": [
      "colors = [ (255,0,128), (192,64,8), (128,128,128) ]\n",
      "\n",
      "for r,g,b in colors:\n",
      "    print \"The red and blue channels are %i and %i\" % (r,b)\n"
     ],
     "language": "python",
     "metadata": {},
     "outputs": [
      {
       "output_type": "stream",
       "stream": "stdout",
       "text": [
        "The red and blue channels are 255 and 128\n",
        "The red and blue channels are 192 and 8\n",
        "The red and blue channels are 128 and 128\n"
       ]
      }
     ],
     "prompt_number": 11
    },
    {
     "cell_type": "markdown",
     "metadata": {},
     "source": [
      "Compare that something using numeric indexing:"
     ]
    },
    {
     "cell_type": "code",
     "collapsed": false,
     "input": [
      "N = len(colors) # length\n",
      "for i in range(N): # range(N) = [0, 1, ..., N-1]\n",
      "    r = colors[i][0]\n",
      "    g = colors[i][1]\n",
      "    b = colors[i][2]\n",
      "    print \"The red and blue channels are %i and %i\" % (r,b)\n",
      "    \n",
      "print \"*** too much bookkeeping :( ***\""
     ],
     "language": "python",
     "metadata": {},
     "outputs": [
      {
       "output_type": "stream",
       "stream": "stdout",
       "text": [
        "The red and blue channels are 255 and 128\n",
        "The red and blue channels are 192 and 8\n",
        "The red and blue channels are 128 and 128\n",
        "*** too much bookkeeping :( ***\n"
       ]
      }
     ],
     "prompt_number": 12
    },
    {
     "cell_type": "markdown",
     "metadata": {},
     "source": [
      "### Sorting\n",
      "\n",
      "Something we will be doing a lot is building up collections of data and then ordering them in certain ways.\n",
      "\n",
      "Here's a dumb example:"
     ]
    },
    {
     "cell_type": "code",
     "collapsed": false,
     "input": [
      "values = [52,66,41,28]\n",
      "print min(values), max(values)"
     ],
     "language": "python",
     "metadata": {},
     "outputs": [
      {
       "output_type": "stream",
       "stream": "stdout",
       "text": [
        "28 66\n"
       ]
      }
     ],
     "prompt_number": 13
    },
    {
     "cell_type": "markdown",
     "metadata": {},
     "source": [
      "We need to sort `values`. Googling brings up two options:\n",
      "\n",
      "```python\n",
      "    values.sort()\n",
      "    sorted(values)\n",
      "```\n",
      "\n",
      "What's the difference?"
     ]
    },
    {
     "cell_type": "code",
     "collapsed": false,
     "input": [
      "values2 = [52,66,41,28].sort()\n",
      "values3 = sorted( [52,66,41,28] )\n",
      "print \"Are they the same?\", values2 == values3\n",
      "print \"The .sort() result is\", values2"
     ],
     "language": "python",
     "metadata": {},
     "outputs": [
      {
       "output_type": "stream",
       "stream": "stdout",
       "text": [
        "Are they the same? False\n",
        "The .sort() result is None\n"
       ]
      }
     ],
     "prompt_number": 14
    },
    {
     "cell_type": "markdown",
     "metadata": {},
     "source": [
      "What happened? Why is values2 None?\n",
      "\n",
      "Answer: \n",
      "\n",
      "* .sort() modifies a list **in place**\n",
      "* sorted() returns a sorted **copy**"
     ]
    },
    {
     "cell_type": "code",
     "collapsed": false,
     "input": [
      "print values\n",
      "values.sort()\n",
      "print values"
     ],
     "language": "python",
     "metadata": {},
     "outputs": [
      {
       "output_type": "stream",
       "stream": "stdout",
       "text": [
        "[52, 66, 41, 28]\n",
        "[28, 41, 52, 66]\n"
       ]
      }
     ],
     "prompt_number": 15
    },
    {
     "cell_type": "markdown",
     "metadata": {},
     "source": [
      "#### More sorting\n",
      "\n",
      "Here's something more realistic. \n",
      "\n",
      "We have social network data, and we've computed the **number of friends** each user has:"
     ]
    },
    {
     "cell_type": "code",
     "collapsed": false,
     "input": [
      "name_numFriends = [ ('Paul',64), ('Ringo',16), \n",
      "                    ('George',32),('John',128) ]"
     ],
     "language": "python",
     "metadata": {},
     "outputs": [],
     "prompt_number": 16
    },
    {
     "cell_type": "markdown",
     "metadata": {},
     "source": [
      "Let's build a sorted copy of this list:"
     ]
    },
    {
     "cell_type": "code",
     "collapsed": false,
     "input": [
      "L = sorted(name_numFriends) # L is a bad variable name!\n",
      "print L"
     ],
     "language": "python",
     "metadata": {},
     "outputs": [
      {
       "output_type": "stream",
       "stream": "stdout",
       "text": [
        "[('George', 32), ('John', 128), ('Paul', 64), ('Ringo', 16)]\n"
       ]
      }
     ],
     "prompt_number": 17
    },
    {
     "cell_type": "markdown",
     "metadata": {},
     "source": [
      "**Oops!** We weren't careful with the phrase `sorted` and the computer sorted the list _alphabetically_\n",
      "\n",
      "We want to sort by number of friends, so let's try this:\n"
     ]
    },
    {
     "cell_type": "code",
     "collapsed": false,
     "input": [
      "numFriends_name = []\n",
      "for name,num in name_numFriends:\n",
      "    numFriends_name.append( (num,name) ) # swapped!\n",
      "    \n",
      "# now sort:\n",
      "nF_name_sorted = sorted(numFriends_name)\n",
      "nF_name_sorted_reversed = sorted(numFriends_name,reverse=True) # !\n",
      "\n",
      "print numFriends_name\n",
      "print nF_name_sorted\n",
      "print nF_name_sorted_reversed"
     ],
     "language": "python",
     "metadata": {},
     "outputs": [
      {
       "output_type": "stream",
       "stream": "stdout",
       "text": [
        "[(64, 'Paul'), (16, 'Ringo'), (32, 'George'), (128, 'John')]\n",
        "[(16, 'Ringo'), (32, 'George'), (64, 'Paul'), (128, 'John')]\n",
        "[(128, 'John'), (64, 'Paul'), (32, 'George'), (16, 'Ringo')]\n"
       ]
      }
     ],
     "prompt_number": 18
    },
    {
     "cell_type": "markdown",
     "metadata": {},
     "source": [
      "We've got it, let's just unswap the elements of the list:"
     ]
    },
    {
     "cell_type": "code",
     "collapsed": false,
     "input": [
      "name_numFriends_sorted = []\n",
      "for num,name in nF_name_sorted_reversed:\n",
      "    name_numFriends_sorted.append( (name,num) ) # swapped back!\n"
     ],
     "language": "python",
     "metadata": {},
     "outputs": [],
     "prompt_number": 19
    },
    {
     "cell_type": "markdown",
     "metadata": {},
     "source": [
      "This process is called Decorate-Sort-Undecorate. (Python has [other goodies](http://stackoverflow.com/questions/613183/python-sort-a-dictionary-by-value) to do this as well.)"
     ]
    },
    {
     "cell_type": "markdown",
     "metadata": {},
     "source": [
      "### Zipping and Unzipping\n",
      "\n",
      "We're seeing a lot of lists of tuples:\n",
      "\n",
      "    L = [('a',7.60),('b',8.10), ... ]\n",
      "\n",
      "But often we'll be stuck with **separate lists** we want to combine:"
     ]
    },
    {
     "cell_type": "code",
     "collapsed": false,
     "input": [
      "names = ['Paul', 'Ringo', 'George', 'John']\n",
      "counts = [64, 16, 32,128]\n",
      "\n",
      "print zip(names,counts) # bingo!"
     ],
     "language": "python",
     "metadata": {},
     "outputs": [
      {
       "output_type": "stream",
       "stream": "stdout",
       "text": [
        "[('Paul', 64), ('Ringo', 16), ('George', 32), ('John', 128)]\n"
       ]
      }
     ],
     "prompt_number": 20
    },
    {
     "cell_type": "markdown",
     "metadata": {},
     "source": [
      "But what if we want to go the other way. Meaning given the list of tuples how do we get two lists, one of the names and one of the counts?\n",
      "\n",
      "`zip` is builtin, but unzip is not. Instead we use a weird trick :"
     ]
    },
    {
     "cell_type": "code",
     "collapsed": false,
     "input": [
      "L = [ ('Paul',64), ('Ringo',16), ('George',32),('John',128) ]\n",
      "\n",
      "X,Y = zip(*L) # bizarre!\n",
      "\n",
      "print X, type(X)\n",
      "print Y"
     ],
     "language": "python",
     "metadata": {},
     "outputs": [
      {
       "output_type": "stream",
       "stream": "stdout",
       "text": [
        "('Paul', 'Ringo', 'George', 'John') <type 'tuple'>\n",
        "(64, 16, 32, 128)\n"
       ]
      }
     ],
     "prompt_number": 21
    },
    {
     "cell_type": "markdown",
     "metadata": {},
     "source": [
      "### Comprehensions\n",
      "\n",
      "Previously you saw we had to build modified lists:\n",
      "\n",
      "```python\n",
      "new_list = []\n",
      "for x in old_list:\n",
      "    new_list.append( f(x) ) \n",
      "```    \n",
      "\n",
      "There's a shorter (and faster!) way to do this:\n",
      "    \n",
      "```python    \n",
      "new_list = [f(x) for x in old_list]\n",
      "```\n",
      "   \n",
      "May look a little weird at first. (And why not use `map`?)\n",
      "\n",
      "Let's do the decorate-sort-undecorate again, using these **list comprehensions**:"
     ]
    },
    {
     "cell_type": "code",
     "collapsed": false,
     "input": [
      "name_numFriends = [ ('Paul',64), ('Ringo',16), \n",
      "                    ('George',32),('John',128) ]\n",
      "\n",
      "# decorate (swap):\n",
      "numFriends_name = [ (num,name) for name,num in name_numFriends ]\n",
      "# sort:\n",
      "numFriends_name.sort(reverse=True)\n",
      "# undecorate:\n",
      "name_numFriends = [ (name,num) for num,name in numFriends_name ]\n",
      "\n",
      "print name_numFriends"
     ],
     "language": "python",
     "metadata": {},
     "outputs": [
      {
       "output_type": "stream",
       "stream": "stdout",
       "text": [
        "[('John', 128), ('Paul', 64), ('George', 32), ('Ringo', 16)]\n"
       ]
      }
     ],
     "prompt_number": 22
    },
    {
     "cell_type": "markdown",
     "metadata": {},
     "source": [
      "All those loops are replaced. It may take some practice to read this style, but you're likely to see these beasts in practice... \n",
      "\n",
      "#### Lists, dicts, sets, oh my!\n",
      "\n",
      "There are also set comprehensions. They match our normal [mathematical set notation](http://en.wikipedia.org/wiki/Set-builder_notation) very well.\n",
      "\n",
      "For example, the set of integers between 10 and 100 (inclusive):\n",
      "\n",
      "$ S = \\{ t \\in \\mathbb{Z} \\mid 10 \\leq t \\leq 100 \\} $\n",
      "\n",
      "in python:\n"
     ]
    },
    {
     "cell_type": "code",
     "collapsed": false,
     "input": [
      "S = { t for t in range(1000) if 10 <= t <= 100 } # curly braces!\n",
      "\n",
      "print S"
     ],
     "language": "python",
     "metadata": {},
     "outputs": [
      {
       "output_type": "stream",
       "stream": "stdout",
       "text": [
        "set([10, 11, 12, 13, 14, 15, 16, 17, 18, 19, 20, 21, 22, 23, 24, 25, 26, 27, 28, 29, 30, 31, 32, 33, 34, 35, 36, 37, 38, 39, 40, 41, 42, 43, 44, 45, 46, 47, 48, 49, 50, 51, 52, 53, 54, 55, 56, 57, 58, 59, 60, 61, 62, 63, 64, 65, 66, 67, 68, 69, 70, 71, 72, 73, 74, 75, 76, 77, 78, 79, 80, 81, 82, 83, 84, 85, 86, 87, 88, 89, 90, 91, 92, 93, 94, 95, 96, 97, 98, 99, 100])\n"
       ]
      }
     ],
     "prompt_number": 23
    },
    {
     "cell_type": "markdown",
     "metadata": {},
     "source": [
      "## Working with files\n",
      "\n",
      "Reading and writing data is one of the most important, and most common things we will do. For now let's start off with plaintext files.\n",
      "\n",
      "\n",
      "#### Reading `data.txt`\n",
      "\n",
      "Suppose I have a _DAQ card_ and I'm collecting `voltage` and `current` as functions of `time`. A simple way to store this information is a text file, where each line of the file records one data point:\n",
      "\n",
      "    # time(sec) voltage current\n",
      "    0.0 3.58066793237 0.269466805146\n",
      "    0.0942477 2.35761842277 -0.0343609063213\n",
      "    0.1884954 2.54291875337 0.402181644387\n",
      "    0.2827431 3.01547024563 -0.00663739540361\n",
      "    . . .\n",
      "    . . .\n",
      "    . . .\n",
      "\n",
      "A nice, simple $N\\times 3$ matrix, stored as **space-separated** text.\n",
      "\n",
      "Let's read this into python and print to the screen. The for-loop works nicely with files, using the `open` command:\n"
     ]
    },
    {
     "cell_type": "code",
     "collapsed": true,
     "input": [
      "# python for loops can read a file line-by-line automatically!\n",
      "i = 0\n",
      "for line in open(\"data.txt\"):\n",
      "    print line\n",
      "    \n",
      "    i += 1 # suppress long output\n",
      "    if i > 8:\n",
      "        print \"...\"\n",
      "        break"
     ],
     "language": "python",
     "metadata": {},
     "outputs": [
      {
       "output_type": "stream",
       "stream": "stdout",
       "text": [
        "0.0 3.58066793237 0.269466805146\n",
        "\n",
        "0.0942477 2.35761842277 -0.0343609063213\n",
        "\n",
        "0.1884954 2.54291875337 0.402181644387\n",
        "\n",
        "0.2827431 3.01547024563 -0.00663739540361\n",
        "\n",
        "0.3769908 1.97720698289 0.214729259821\n",
        "\n",
        "0.4712385 3.08988264269 0.450300612049\n",
        "\n",
        "0.5654862 2.55471487263 0.217870513189\n",
        "\n",
        "0.6597339 2.78877808088 0.792510286325\n",
        "\n",
        "0.7539816 2.63650949635 0.872919361726\n",
        "\n",
        "...\n"
       ]
      }
     ],
     "prompt_number": 24
    },
    {
     "cell_type": "markdown",
     "metadata": {},
     "source": [
      "Ok, are there supposed to be **blank lines**? Let's try again:"
     ]
    },
    {
     "cell_type": "code",
     "collapsed": false,
     "input": [
      "i = 0\n",
      "for line in open(\"data.txt\"):\n",
      "    print repr(line)\n",
      "    \n",
      "    i += 1 # suppress long output\n",
      "    if i > 8:\n",
      "        print \"...\"\n",
      "        break"
     ],
     "language": "python",
     "metadata": {},
     "outputs": [
      {
       "output_type": "stream",
       "stream": "stdout",
       "text": [
        "'0.0 3.58066793237 0.269466805146\\n'\n",
        "'0.0942477 2.35761842277 -0.0343609063213\\n'\n",
        "'0.1884954 2.54291875337 0.402181644387\\n'\n",
        "'0.2827431 3.01547024563 -0.00663739540361\\n'\n",
        "'0.3769908 1.97720698289 0.214729259821\\n'\n",
        "'0.4712385 3.08988264269 0.450300612049\\n'\n",
        "'0.5654862 2.55471487263 0.217870513189\\n'\n",
        "'0.6597339 2.78877808088 0.792510286325\\n'\n",
        "'0.7539816 2.63650949635 0.872919361726\\n'\n",
        "...\n"
       ]
      }
     ],
     "prompt_number": 25
    },
    {
     "cell_type": "markdown",
     "metadata": {},
     "source": [
      "_Ah!_ Each time through the loop the variable `line` becomes a string represented each **line** of the text file. This string includes the **newline** character at the end.\n",
      "\n",
      "* We can strip away _whitespace_ at the ends of a string easily with .strip()\n",
      "* Let's also break each line into a list, using .split()"
     ]
    },
    {
     "cell_type": "code",
     "collapsed": false,
     "input": [
      "i = 0\n",
      "for line in open(\"data.txt\"):\n",
      "    # make new string without newlines, then split that \n",
      "    # string into a list:\n",
      "    print line.strip().split()\n",
      "    \n",
      "    i += 1\n",
      "    if i > 8:\n",
      "        print \"...\"\n",
      "        break"
     ],
     "language": "python",
     "metadata": {},
     "outputs": [
      {
       "output_type": "stream",
       "stream": "stdout",
       "text": [
        "['0.0', '3.58066793237', '0.269466805146']\n",
        "['0.0942477', '2.35761842277', '-0.0343609063213']\n",
        "['0.1884954', '2.54291875337', '0.402181644387']\n",
        "['0.2827431', '3.01547024563', '-0.00663739540361']\n",
        "['0.3769908', '1.97720698289', '0.214729259821']\n",
        "['0.4712385', '3.08988264269', '0.450300612049']\n",
        "['0.5654862', '2.55471487263', '0.217870513189']\n",
        "['0.6597339', '2.78877808088', '0.792510286325']\n",
        "['0.7539816', '2.63650949635', '0.872919361726']\n",
        "...\n"
       ]
      }
     ],
     "prompt_number": 26
    },
    {
     "cell_type": "markdown",
     "metadata": {},
     "source": [
      "Combine with multi-assignment:"
     ]
    },
    {
     "cell_type": "code",
     "collapsed": false,
     "input": [
      "i = 0\n",
      "for line in open(\"data.txt\"):\n",
      "    time,volt,curr = line.strip().split()\n",
      "    \n",
      "    print \"t = %s, c = %s\" % (time,curr)\n",
      "    \n",
      "    i += 1\n",
      "    if i > 8:\n",
      "        print \"...\"\n",
      "        break"
     ],
     "language": "python",
     "metadata": {},
     "outputs": [
      {
       "output_type": "stream",
       "stream": "stdout",
       "text": [
        "t = 0.0, c = 0.269466805146\n",
        "t = 0.0942477, c = -0.0343609063213\n",
        "t = 0.1884954, c = 0.402181644387\n",
        "t = 0.2827431, c = -0.00663739540361\n",
        "t = 0.3769908, c = 0.214729259821\n",
        "t = 0.4712385, c = 0.450300612049\n",
        "t = 0.5654862, c = 0.217870513189\n",
        "t = 0.6597339, c = 0.792510286325\n",
        "t = 0.7539816, c = 0.872919361726\n",
        "...\n"
       ]
      }
     ],
     "prompt_number": 27
    },
    {
     "cell_type": "markdown",
     "metadata": {},
     "source": [
      "So we can quickly make variables for the line, but the variables are strings. We can't do:"
     ]
    },
    {
     "cell_type": "code",
     "collapsed": false,
     "input": [
      "for line in open(\"data.txt\"):\n",
      "    time,volt,curr = line.strip().split()\n",
      "    \n",
      "    R = volt / curr"
     ],
     "language": "python",
     "metadata": {},
     "outputs": [
      {
       "ename": "TypeError",
       "evalue": "unsupported operand type(s) for /: 'str' and 'str'",
       "output_type": "pyerr",
       "traceback": [
        "\u001b[0;31m---------------------------------------------------------------------------\u001b[0m\n\u001b[0;31mTypeError\u001b[0m                                 Traceback (most recent call last)",
        "\u001b[0;32m<ipython-input-28-4274aca64f7f>\u001b[0m in \u001b[0;36m<module>\u001b[0;34m()\u001b[0m\n\u001b[1;32m      2\u001b[0m     \u001b[0mtime\u001b[0m\u001b[0;34m,\u001b[0m\u001b[0mvolt\u001b[0m\u001b[0;34m,\u001b[0m\u001b[0mcurr\u001b[0m \u001b[0;34m=\u001b[0m \u001b[0mline\u001b[0m\u001b[0;34m.\u001b[0m\u001b[0mstrip\u001b[0m\u001b[0;34m(\u001b[0m\u001b[0;34m)\u001b[0m\u001b[0;34m.\u001b[0m\u001b[0msplit\u001b[0m\u001b[0;34m(\u001b[0m\u001b[0;34m)\u001b[0m\u001b[0;34m\u001b[0m\u001b[0m\n\u001b[1;32m      3\u001b[0m \u001b[0;34m\u001b[0m\u001b[0m\n\u001b[0;32m----> 4\u001b[0;31m     \u001b[0mR\u001b[0m \u001b[0;34m=\u001b[0m \u001b[0mvolt\u001b[0m \u001b[0;34m/\u001b[0m \u001b[0mcurr\u001b[0m\u001b[0;34m\u001b[0m\u001b[0m\n\u001b[0m",
        "\u001b[0;31mTypeError\u001b[0m: unsupported operand type(s) for /: 'str' and 'str'"
       ]
      }
     ],
     "prompt_number": 28
    },
    {
     "cell_type": "markdown",
     "metadata": {},
     "source": [
      "No problem, just **convert** the strings to floats:"
     ]
    },
    {
     "cell_type": "code",
     "collapsed": false,
     "input": [
      "list_times = []\n",
      "list_resistances = []\n",
      "for line in open(\"data.txt\"):\n",
      "    time,volt,curr = line.strip().split()\n",
      "    time = float(time)\n",
      "    volt = float(volt)\n",
      "    curr = float(curr)\n",
      "    \n",
      "    list_times.append(time)\n",
      "    list_resistances.append(volt/curr)"
     ],
     "language": "python",
     "metadata": {},
     "outputs": [],
     "prompt_number": 29
    },
    {
     "cell_type": "markdown",
     "metadata": {},
     "source": [
      "#### Writing `data.txt`\n",
      "\n",
      "Suppose our big project was just to compute these resistances from our experiment and then record them to another file.\n",
      "\n",
      "To do this we :\n",
      "\n",
      "1. Open a file for writing\n",
      "2. Write **strings** to it using .write()\n",
      "3. Close the file when finished using .close()"
     ]
    },
    {
     "cell_type": "code",
     "collapsed": false,
     "input": [
      "# open a new file to write to:\n",
      "fout = open(\"data_res.txt\", 'w') # w = write\n",
      "\n",
      "for t,r in zip(list_times,list_resistances):\n",
      "    # t and r are floats, need to make them strings first\n",
      "    # and we need to take care of newlines ourselves:\n",
      "    \n",
      "    line_out = str(t) + \" \" + str(r) + \"\\n\"\n",
      "    \n",
      "    line_out = \"%f %f\\n\" % (t,r) # same, but shorter\n",
      "    \n",
      "    fout.write(line_out)\n",
      "\n",
      "# close the file to be safe:\n",
      "fout.close()\n",
      "    "
     ],
     "language": "python",
     "metadata": {},
     "outputs": [],
     "prompt_number": 30
    },
    {
     "cell_type": "markdown",
     "metadata": {},
     "source": [
      "OK, so dealing with files is a bit of a pain because we are working directly with strings and managing the variable types ourselves.\n",
      "\n",
      "The above was a teaching example. Later I'll show you how to read and write whole files of regular, **matrix** data with a **single command**!\n",
      "\n",
      "But what about reading a \"ragged\" text file? For example, a file where each line records (1) a person and (2) a list of that person's friends:\n",
      "\n",
      "    Alice Bob Jack Kerry\n",
      "    Bob Alice Jack Peter Frank Megan Nancy\n",
      "    Jack Alice Bob Andrea\n",
      "    ...\n",
      "\n",
      "This is a compact data format, and it's very convenient in python:\n",
      "    \n",
      "    for line in open(filename):\n",
      "        L = line.strip().split()\n",
      "        user = L[0]\n",
      "        friends = L[1:]\n",
      "      \n",
      "Try doing **that** in C or MATLAB!\n",
      "    \n"
     ]
    },
    {
     "cell_type": "markdown",
     "metadata": {},
     "source": [
      "By the way, if we had commas separating the values instead of spaces, we could just use `line.strip().split(\",\")`. (Python has a [CSV module](http://docs.python.org/2/library/csv.html) as well, batteries included!)"
     ]
    },
    {
     "cell_type": "markdown",
     "metadata": {},
     "source": [
      "### Exploring the standard library\n",
      "\n",
      "Lots of goodies available. For example, there are a number of math functions we can use:"
     ]
    },
    {
     "cell_type": "code",
     "collapsed": false,
     "input": [
      "import math\n",
      "\n",
      "print 2*math.pi\n",
      "\n",
      "print math.log(2.7182)\n",
      "\n",
      "print math.ceil(2.4)"
     ],
     "language": "python",
     "metadata": {},
     "outputs": [
      {
       "output_type": "stream",
       "stream": "stdout",
       "text": [
        "6.28318530718\n",
        "0.999969896539\n",
        "3.0\n"
       ]
      }
     ],
     "prompt_number": 31
    },
    {
     "cell_type": "markdown",
     "metadata": {},
     "source": [
      "#### A word about importing\n",
      "\n",
      "OK, **`import math`** creates a new module called `math` containing all the math goods. But there are some useful *variations* for import statements:"
     ]
    },
    {
     "cell_type": "code",
     "collapsed": false,
     "input": [
      " # rename the math module:\n",
      "import math as m\n",
      "\n",
      "print m.sin(3.14)\n",
      "\n",
      "\n",
      "# bring in functions but not the module:\n",
      "from math import log, ceil \n",
      "\n",
      "print log(10,10)\n",
      "\n",
      "log = \"system.log\" # gotcha, we just killed the math function\n",
      "\n",
      "\n",
      "# bring in everything:\n",
      "from math import *"
     ],
     "language": "python",
     "metadata": {},
     "outputs": [
      {
       "output_type": "stream",
       "stream": "stdout",
       "text": [
        "0.00159265291649\n",
        "1.0\n"
       ]
      }
     ],
     "prompt_number": 32
    },
    {
     "cell_type": "markdown",
     "metadata": {},
     "source": [
      "#### Random stuff\n",
      "\n",
      "Python has a great random package. This lets us do stochastic simulations by giving us a pseudorandom number generator.\n",
      "\n",
      "The minimum a programming language needs for this is a function that gives you access to random floats between zero and one. Python does this:"
     ]
    },
    {
     "cell_type": "code",
     "collapsed": false,
     "input": [
      "import random\n",
      "\n",
      "for _ in range(4): # underscore makes a handy dummy variable\n",
      "    print random.random()"
     ],
     "language": "python",
     "metadata": {},
     "outputs": [
      {
       "output_type": "stream",
       "stream": "stdout",
       "text": [
        "0.998306678334\n",
        "0.862274940818\n",
        "0.837740249061\n",
        "0.140793548237\n"
       ]
      }
     ],
     "prompt_number": 33
    },
    {
     "cell_type": "markdown",
     "metadata": {},
     "source": [
      "Suppose I have a list that I want to make random samples from. Normally you'd code up something like:"
     ]
    },
    {
     "cell_type": "code",
     "collapsed": false,
     "input": [
      "suit = [\"hearts\", \"diamonds\", \"clubs\",\"spades\"]\n",
      "\n",
      "# sample w/ replacement four times:\n",
      "for _ in range(4):\n",
      "    r = random.random()*len(suit) # r in [0,4)\n",
      "    print suit[ int(r) ] \n",
      "    "
     ],
     "language": "python",
     "metadata": {},
     "outputs": [
      {
       "output_type": "stream",
       "stream": "stdout",
       "text": [
        "diamonds\n",
        "clubs\n",
        "clubs\n",
        "hearts\n"
       ]
      }
     ],
     "prompt_number": 34
    },
    {
     "cell_type": "markdown",
     "metadata": {},
     "source": [
      "But this is not looking very pretty. Can we do better? Yep:"
     ]
    },
    {
     "cell_type": "code",
     "collapsed": false,
     "input": [
      "for _ in range(4):\n",
      "    print random.choice(suit) # goodies!"
     ],
     "language": "python",
     "metadata": {},
     "outputs": [
      {
       "output_type": "stream",
       "stream": "stdout",
       "text": [
        "hearts\n",
        "diamonds\n",
        "diamonds\n",
        "clubs\n"
       ]
      }
     ],
     "prompt_number": 35
    },
    {
     "cell_type": "markdown",
     "metadata": {},
     "source": [
      "And don't forget our fancy-schmancy list comprehensions:"
     ]
    },
    {
     "cell_type": "code",
     "collapsed": false,
     "input": [
      "draws = [ random.choice(suit) for _ in range(4) ]\n",
      "print draws"
     ],
     "language": "python",
     "metadata": {},
     "outputs": [
      {
       "output_type": "stream",
       "stream": "stdout",
       "text": [
        "['hearts', 'diamonds', 'hearts', 'hearts']\n"
       ]
      }
     ],
     "prompt_number": 36
    },
    {
     "cell_type": "markdown",
     "metadata": {},
     "source": [
      "There are also functions for random integers, normally-distributed random variables, and more. \n",
      "\n",
      "*** \n",
      "\n",
      "\n",
      "Let's talk about two more, `sample` and `shuffle`:\n",
      "\n",
      "\n",
      "If we run random.choice on a list repeatedly we are sampling uniformly from that list **with replacement**. If we want to sample without replacement, meaning the same element cannot be selected more than once, we can use `random.sample`:"
     ]
    },
    {
     "cell_type": "code",
     "collapsed": false,
     "input": [
      "numbers = range(1000)\n",
      "print random.sample( numbers, 5) # make five draws (input must\n",
      "                                 # have len >= 5)"
     ],
     "language": "python",
     "metadata": {},
     "outputs": [
      {
       "output_type": "stream",
       "stream": "stdout",
       "text": [
        "[555, 40, 542, 87, 505]\n"
       ]
      }
     ],
     "prompt_number": 37
    },
    {
     "cell_type": "markdown",
     "metadata": {},
     "source": [
      "We already covered sorting data. Sometimes we may want to take some data and put it into a random order. This is easy with **shuffle**:"
     ]
    },
    {
     "cell_type": "code",
     "collapsed": false,
     "input": [
      "speech = \"\"\"We choose to go to the moon. We choose to go to \n",
      "the moon in this decade, not because it easy, but because\n",
      "it is hard.\"\"\"\n",
      "\n",
      "list_words = speech.split() # split on any whitespace and\n",
      "                            # remove empty strings\n",
      "\n",
      "print list_words\n"
     ],
     "language": "python",
     "metadata": {},
     "outputs": [
      {
       "output_type": "stream",
       "stream": "stdout",
       "text": [
        "['We', 'choose', 'to', 'go', 'to', 'the', 'moon.', 'We', 'choose', 'to', 'go', 'to', 'the', 'moon', 'in', 'this', 'decade,', 'not', 'because', 'it', 'easy,', 'but', 'because', 'it', 'is', 'hard.']\n"
       ]
      }
     ],
     "prompt_number": 38
    },
    {
     "cell_type": "code",
     "collapsed": false,
     "input": [
      "random.shuffle(list_words) # shuffle works in place!!!\n",
      "print list_words"
     ],
     "language": "python",
     "metadata": {},
     "outputs": [
      {
       "output_type": "stream",
       "stream": "stdout",
       "text": [
        "['to', 'to', 'this', 'but', 'decade,', 'go', 'the', 'to', 'it', 'in', 'We', 'is', 'to', 'not', 'it', 'the', 'because', 'choose', 'easy,', 'because', 'hard.', 'moon.', 'moon', 'We', 'go', 'choose']\n"
       ]
      }
     ],
     "prompt_number": 39
    },
    {
     "cell_type": "markdown",
     "metadata": {},
     "source": [
      "### Third-Party packages\n",
      "\n",
      "Here are a few incredibly useful, popular libraries that are not made by Python.org. We'll be seeing these again.\n",
      "\n",
      "#### Numpy\n",
      "\n",
      "Numpy (Numeric Python) provides a very useful data structure specialized for numeric data, as well as a number of other great functions.\n",
      "\n",
      "Suppose we want 11 floats evenly spaced between zero and one. We need to do something like:"
     ]
    },
    {
     "cell_type": "code",
     "collapsed": false,
     "input": [
      "numbers_py = [ r/10.0 for r in range(0,10+1) ]\n",
      "print numbers_py, type(numbers_py)"
     ],
     "language": "python",
     "metadata": {},
     "outputs": [
      {
       "output_type": "stream",
       "stream": "stdout",
       "text": [
        "[0.0, 0.1, 0.2, 0.3, 0.4, 0.5, 0.6, 0.7, 0.8, 0.9, 1.0] <type 'list'>\n"
       ]
      }
     ],
     "prompt_number": 40
    },
    {
     "cell_type": "markdown",
     "metadata": {},
     "source": [
      "Numpy let's us skip the bookkeeping:"
     ]
    },
    {
     "cell_type": "code",
     "collapsed": false,
     "input": [
      "import numpy as np\n",
      "\n",
      "numbers_np = np.linspace(0,1,11)\n",
      "print numbers_np, type(numbers_np)"
     ],
     "language": "python",
     "metadata": {},
     "outputs": [
      {
       "output_type": "stream",
       "stream": "stdout",
       "text": [
        "[ 0.   0.1  0.2  0.3  0.4  0.5  0.6  0.7  0.8  0.9  1. ] <type 'numpy.ndarray'>\n"
       ]
      }
     ],
     "prompt_number": 41
    },
    {
     "cell_type": "markdown",
     "metadata": {},
     "source": [
      "This variable created by numpy does not behave like a python list. It behaves like a MATLAB vector:"
     ]
    },
    {
     "cell_type": "code",
     "collapsed": false,
     "input": [
      "print numbers_py*2 # concataneted numbers_py to itself\n",
      "print\n",
      "print numbers_np*2 # multiplied each element by 2"
     ],
     "language": "python",
     "metadata": {},
     "outputs": [
      {
       "output_type": "stream",
       "stream": "stdout",
       "text": [
        "[0.0, 0.1, 0.2, 0.3, 0.4, 0.5, 0.6, 0.7, 0.8, 0.9, 1.0, 0.0, 0.1, 0.2, 0.3, 0.4, 0.5, 0.6, 0.7, 0.8, 0.9, 1.0]\n",
        "\n",
        "[ 0.   0.2  0.4  0.6  0.8  1.   1.2  1.4  1.6  1.8  2. ]\n"
       ]
      }
     ],
     "prompt_number": 42
    },
    {
     "cell_type": "markdown",
     "metadata": {},
     "source": [
      "Both lists and ndarrays are very handy, for different things. Choosing the right one can make your life much easier:\n",
      "\n",
      "* Remember the voltage/current data file we read. That was **purely numeric**, so it's a good candidate for numpy:"
     ]
    },
    {
     "cell_type": "code",
     "collapsed": true,
     "input": [
      "M = np.loadtxt(\"data.txt\")\n",
      "print M[:12,:] # print first 12 rows..."
     ],
     "language": "python",
     "metadata": {},
     "outputs": [
      {
       "output_type": "stream",
       "stream": "stdout",
       "text": [
        "[[ 0.          3.58066793  0.26946681]\n",
        " [ 0.0942477   2.35761842 -0.03436091]\n",
        " [ 0.1884954   2.54291875  0.40218164]\n",
        " [ 0.2827431   3.01547025 -0.0066374 ]\n",
        " [ 0.3769908   1.97720698  0.21472926]\n",
        " [ 0.4712385   3.08988264  0.45030061]\n",
        " [ 0.5654862   2.55471487  0.21787051]\n",
        " [ 0.6597339   2.78877808  0.79251029]\n",
        " [ 0.7539816   2.6365095   0.87291936]\n",
        " [ 0.8482293   2.04928684  0.50242701]\n",
        " [ 0.942477    2.01675315  0.77564766]\n",
        " [ 1.0367247   0.59550182  0.72930271]]\n"
       ]
      }
     ],
     "prompt_number": 43
    },
    {
     "cell_type": "markdown",
     "metadata": {},
     "source": [
      "`loadtxt` is a great function for helping us read numeric data into a **matrix**. We can take row- and column-slices easily:"
     ]
    },
    {
     "cell_type": "code",
     "collapsed": false,
     "input": [
      "print M.shape # numRows, numCols\n",
      "\n",
      "time = M[:,0] # all rows, column zero\n",
      "volt = M[:,1] # all rows, column one\n",
      "curr = M[:,2] \n",
      "last_datapoint = M[-1,:]\n",
      "\n",
      "print last_datapoint"
     ],
     "language": "python",
     "metadata": {},
     "outputs": [
      {
       "output_type": "stream",
       "stream": "stdout",
       "text": [
        "(201, 3)\n",
        "[ 18.84954     3.9366731  -0.1701687]\n"
       ]
      }
     ],
     "prompt_number": 44
    },
    {
     "cell_type": "code",
     "collapsed": false,
     "input": [
      "time.shape"
     ],
     "language": "python",
     "metadata": {},
     "outputs": [
      {
       "metadata": {},
       "output_type": "pyout",
       "prompt_number": 45,
       "text": [
        "(201,)"
       ]
      }
     ],
     "prompt_number": 45
    },
    {
     "cell_type": "markdown",
     "metadata": {},
     "source": [
      "#### [Scipy](http://scipy.org)\n",
      "\n",
      "A very handy package for **scientific computing**. Lots of statistical tools, special functions (`scipy.special.gamma`, `scipy.special.erf`, etc.), signal processing, image analysis, function search and optimization, and more.\n",
      "\n",
      "We'll be seeing scipy in the future.\n",
      "\n"
     ]
    },
    {
     "cell_type": "markdown",
     "metadata": {},
     "source": [
      "#### Matplotlib\n",
      "\n",
      "Don't forget, **visualization** is in the course title! That includes making figures.\n",
      "\n",
      "* [Matplotlib](http://matplotlib.org) is a powerful (but a bit complicated) library for generating figures. There's a [nice gallery](http://matplotlib.org/gallery.html) worth checking out.\n",
      "\n",
      "Let's quickly plot our old time, voltage, current data:\n"
     ]
    },
    {
     "cell_type": "code",
     "collapsed": false,
     "input": [
      "import matplotlib.pyplot as plt # see, complicated\n",
      "\n",
      "plt.plot(time,volt) # works with numpy"
     ],
     "language": "python",
     "metadata": {},
     "outputs": [
      {
       "metadata": {},
       "output_type": "pyout",
       "prompt_number": 46,
       "text": [
        "[<matplotlib.lines.Line2D at 0x1050d9e10>]"
       ]
      },
      {
       "metadata": {},
       "output_type": "display_data",
       "png": "[encoded data removed]",
       "text": [
        "<matplotlib.figure.Figure at 0x105098710>"
       ]
      }
     ],
     "prompt_number": 46
    },
    {
     "cell_type": "code",
     "collapsed": false,
     "input": [
      "plt.hold(True) # both curves on same axis\n",
      "plt.plot(time,volt,'ro-')\n",
      "plt.plot(time,curr,'bx-')\n",
      "\n",
      "plt.xlabel(\"Time (sec)\", fontsize=16)\n",
      "plt.ylabel(\"Reading\", fontsize=16)\n",
      "plt.legend([\"Voltage\", \"Current\"], fontsize=16)\n",
      "plt.title(\"data.txt\", fontsize=16)\n"
     ],
     "language": "python",
     "metadata": {},
     "outputs": [
      {
       "metadata": {},
       "output_type": "pyout",
       "prompt_number": 47,
       "text": [
        "<matplotlib.text.Text at 0x1050d3110>"
       ]
      },
      {
       "metadata": {},
       "output_type": "display_data",
       "png": "[encoded data removed]",
       "text": [
        "<matplotlib.figure.Figure at 0x1050eadd0>"
       ]
      }
     ],
     "prompt_number": 47
    }
   ],
   "metadata": {}
  }
 ]
}